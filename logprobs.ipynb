{
 "cells": [
  {
   "cell_type": "markdown",
   "id": "78b45321-7740-4399-b2ad-459811131de3",
   "metadata": {},
   "source": [
    "# How to get log probabilities\n",
    "\n",
    ":::info Prerequisites\n",
    "\n",
    "This guide assumes familiarity with the following concepts:\n",
    "- [Chat models](/docs/concepts/chat_models)\n",
    "- [Tokens](/docs/concepts/tokens)\n",
    "\n",
    ":::\n",
    "\n",
    "Certain [chat models](/docs/concepts/chat_models/) can be configured to return token-level log probabilities representing the likelihood of a given token. This guide walks through how to get this information in LangChain."
   ]
  },
  {
   "cell_type": "markdown",
   "id": "7f5016bf-2a7b-4140-9b80-8c35c7e5c0d5",
   "metadata": {},
   "source": [
    "## OpenAI\n",
    "\n",
    "Install the LangChain x OpenAI package and set your API key"
   ]
  },
  {
   "cell_type": "code",
   "execution_count": 1,
   "id": "fe5143fe-84d3-4a91-bae8-629807bbe2cb",
   "metadata": {},
   "outputs": [
    {
     "name": "stdout",
     "output_type": "stream",
     "text": [
      "Note: you may need to restart the kernel to use updated packages.\n"
     ]
    }
   ],
   "source": [
    "%pip install -qU langchain-openai"
   ]
  },
  {
   "cell_type": "markdown",
   "id": "306e6cef",
   "metadata": {},
   "source": []
  },
  {
   "cell_type": "code",
   "execution_count": 1,
   "id": "fd1a2bff-7ac8-46cb-ab95-72c616b45f2c",
   "metadata": {},
   "outputs": [],
   "source": [
    "import getpass\n",
    "import os\n",
    "\n",
    "if \"OPENAI_API_KEY\" not in os.environ:\n",
    "    os.environ[\"OPENAI_API_KEY\"] = getpass()"
   ]
  },
  {
   "cell_type": "markdown",
   "id": "f88ffa0d-f4a7-482c-88de-cbec501a79b1",
   "metadata": {},
   "source": [
    "For the OpenAI API to return log probabilities we need to configure the `logprobs=True` param. Then, the logprobs are included on each output [`AIMessage`](https://python.langchain.com/api_reference/core/messages/langchain_core.messages.ai.AIMessage.html) as part of the `response_metadata`:"
   ]
  },
  {
   "cell_type": "code",
   "execution_count": 5,
   "id": "d1bf0a9a-e402-4931-ab53-32899f8e0326",
   "metadata": {},
   "outputs": [
    {
     "data": {
      "text/plain": [
       "[{'token': \"I'm\",\n",
       "  'bytes': [73, 39, 109],\n",
       "  'logprob': -0.04862971603870392,\n",
       "  'top_logprobs': []},\n",
       " {'token': ' just',\n",
       "  'bytes': [32, 106, 117, 115, 116],\n",
       "  'logprob': -0.045479487627744675,\n",
       "  'top_logprobs': []},\n",
       " {'token': ' a',\n",
       "  'bytes': [32, 97],\n",
       "  'logprob': -7.696077227592468e-05,\n",
       "  'top_logprobs': []},\n",
       " {'token': ' program',\n",
       "  'bytes': [32, 112, 114, 111, 103, 114, 97, 109],\n",
       "  'logprob': -0.9782673120498657,\n",
       "  'top_logprobs': []},\n",
       " {'token': ',',\n",
       "  'bytes': [44],\n",
       "  'logprob': -1.8550976164988242e-05,\n",
       "  'top_logprobs': []}]"
      ]
     },
     "execution_count": 5,
     "metadata": {},
     "output_type": "execute_result"
    }
   ],
   "source": [
    "from langchain_openai import ChatOpenAI\n",
    "\n",
    "llm = ChatOpenAI(model=\"gpt-4o-mini\").bind(logprobs=True)\n",
    "\n",
    "msg = llm.invoke((\"human\", \"how are you today\"))\n",
    "\n",
    "msg.response_metadata[\"logprobs\"][\"content\"][:5]"
   ]
  },
  {
   "cell_type": "markdown",
   "id": "d1ee1c29-d27e-4353-8c3c-2ed7e7f95ff5",
   "metadata": {},
   "source": [
    "And are part of streamed Message chunks as well:"
   ]
  },
  {
   "cell_type": "code",
   "execution_count": 4,
   "id": "4bfaf309-3b23-43b7-b333-01fc4848992d",
   "metadata": {},
   "outputs": [
    {
     "name": "stdout",
     "output_type": "stream",
     "text": [
      "[]\n",
      "[{'token': \"I'm\", 'bytes': [73, 39, 109], 'logprob': -0.06202784180641174, 'top_logprobs': []}]\n",
      "[{'token': \"I'm\", 'bytes': [73, 39, 109], 'logprob': -0.06202784180641174, 'top_logprobs': []}, {'token': ' just', 'bytes': [32, 106, 117, 115, 116], 'logprob': -0.03149718791246414, 'top_logprobs': []}]\n",
      "[{'token': \"I'm\", 'bytes': [73, 39, 109], 'logprob': -0.06202784180641174, 'top_logprobs': []}, {'token': ' just', 'bytes': [32, 106, 117, 115, 116], 'logprob': -0.03149718791246414, 'top_logprobs': []}, {'token': ' a', 'bytes': [32, 97], 'logprob': -9.555654105497524e-05, 'top_logprobs': []}]\n",
      "[{'token': \"I'm\", 'bytes': [73, 39, 109], 'logprob': -0.06202784180641174, 'top_logprobs': []}, {'token': ' just', 'bytes': [32, 106, 117, 115, 116], 'logprob': -0.03149718791246414, 'top_logprobs': []}, {'token': ' a', 'bytes': [32, 97], 'logprob': -9.555654105497524e-05, 'top_logprobs': []}, {'token': ' computer', 'bytes': [32, 99, 111, 109, 112, 117, 116, 101, 114], 'logprob': -0.47846534848213196, 'top_logprobs': []}]\n"
     ]
    }
   ],
   "source": [
    "ct = 0\n",
    "full = None\n",
    "for chunk in llm.stream((\"human\", \"how are you today\")):\n",
    "    if ct < 5:\n",
    "        full = chunk if full is None else full + chunk\n",
    "        if \"logprobs\" in full.response_metadata:\n",
    "            print(full.response_metadata[\"logprobs\"][\"content\"])\n",
    "    else:\n",
    "        break\n",
    "    ct += 1"
   ]
  },
  {
   "cell_type": "markdown",
   "id": "19766435",
   "metadata": {},
   "source": [
    "## Next steps\n",
    "\n",
    "You've now learned how to get logprobs from OpenAI models in LangChain.\n",
    "\n",
    "Next, check out the other how-to guides chat models in this section, like [how to get a model to return structured output](/docs/how_to/structured_output) or [how to track token usage](/docs/how_to/chat_token_usage_tracking)."
   ]
  },
  {
   "cell_type": "code",
   "execution_count": 4,
   "id": "dbf13247",
   "metadata": {},
   "outputs": [],
   "source": [
    "# Check if pandas is installed, and install if missing\n",
    "try:\n",
    "    import pandas as pd\n",
    "except ImportError:\n",
    "    import sys\n",
    "    !{sys.executable} -m pip install pandas\n",
    "    import pandas as pd"
   ]
  },
  {
   "cell_type": "code",
   "execution_count": 2,
   "id": "715a58ed",
   "metadata": {},
   "outputs": [
    {
     "data": {
      "text/html": [
       "<div>\n",
       "<style scoped>\n",
       "    .dataframe tbody tr th:only-of-type {\n",
       "        vertical-align: middle;\n",
       "    }\n",
       "\n",
       "    .dataframe tbody tr th {\n",
       "        vertical-align: top;\n",
       "    }\n",
       "\n",
       "    .dataframe thead th {\n",
       "        text-align: right;\n",
       "    }\n",
       "</style>\n",
       "<table border=\"1\" class=\"dataframe\">\n",
       "  <thead>\n",
       "    <tr style=\"text-align: right;\">\n",
       "      <th></th>\n",
       "      <th>token</th>\n",
       "      <th>bytes</th>\n",
       "      <th>logprob</th>\n",
       "      <th>top_logprobs</th>\n",
       "    </tr>\n",
       "  </thead>\n",
       "  <tbody>\n",
       "    <tr>\n",
       "      <th>0</th>\n",
       "      <td>It's</td>\n",
       "      <td>[73, 116, 39, 115]</td>\n",
       "      <td>-2.322808</td>\n",
       "      <td>[]</td>\n",
       "    </tr>\n",
       "    <tr>\n",
       "      <th>1</th>\n",
       "      <td>a</td>\n",
       "      <td>[32, 97]</td>\n",
       "      <td>-0.030191</td>\n",
       "      <td>[]</td>\n",
       "    </tr>\n",
       "    <tr>\n",
       "      <th>2</th>\n",
       "      <td>lovely</td>\n",
       "      <td>[32, 108, 111, 118, 101, 108, 121]</td>\n",
       "      <td>-0.000003</td>\n",
       "      <td>[]</td>\n",
       "    </tr>\n",
       "    <tr>\n",
       "      <th>3</th>\n",
       "      <td>day</td>\n",
       "      <td>[32, 100, 97, 121]</td>\n",
       "      <td>-0.000229</td>\n",
       "      <td>[]</td>\n",
       "    </tr>\n",
       "    <tr>\n",
       "      <th>4</th>\n",
       "      <td>,</td>\n",
       "      <td>[44]</td>\n",
       "      <td>-1.332562</td>\n",
       "      <td>[]</td>\n",
       "    </tr>\n",
       "    <tr>\n",
       "      <th>5</th>\n",
       "      <td>and</td>\n",
       "      <td>[32, 97, 110, 100]</td>\n",
       "      <td>-0.074767</td>\n",
       "      <td>[]</td>\n",
       "    </tr>\n",
       "    <tr>\n",
       "      <th>6</th>\n",
       "      <td>I</td>\n",
       "      <td>[32, 73]</td>\n",
       "      <td>-0.053837</td>\n",
       "      <td>[]</td>\n",
       "    </tr>\n",
       "  </tbody>\n",
       "</table>\n",
       "</div>"
      ],
      "text/plain": [
       "     token                               bytes   logprob top_logprobs\n",
       "0     It's                  [73, 116, 39, 115] -2.322808           []\n",
       "1        a                            [32, 97] -0.030191           []\n",
       "2   lovely  [32, 108, 111, 118, 101, 108, 121] -0.000003           []\n",
       "3      day                  [32, 100, 97, 121] -0.000229           []\n",
       "4        ,                                [44] -1.332562           []\n",
       "5      and                  [32, 97, 110, 100] -0.074767           []\n",
       "6        I                            [32, 73] -0.053837           []"
      ]
     },
     "execution_count": 2,
     "metadata": {},
     "output_type": "execute_result"
    }
   ],
   "source": [
    "# Import required libraries\n",
    "import pandas as pd\n",
    "from langchain_openai import ChatOpenAI\n",
    "\n",
    "# Create the LLM and get a response with logprobs\n",
    "llm = ChatOpenAI(model=\"gpt-4o-mini\").bind(logprobs=True)\n",
    "msg = llm.invoke((\"human\", \"I'ts a lovely day and I am thirsty. I will go to the \"))\n",
    "\n",
    "# Get token probabilities\n",
    "token_probs = msg.response_metadata[\"logprobs\"][\"content\"][:7]  # Example: first 7 tokens\n",
    "\n",
    "# Convert to DataFrame for tabular display\n",
    "df = pd.DataFrame(token_probs)\n",
    "\n",
    "# Display the DataFrame\n",
    "df"
   ]
  }
 ],
 "metadata": {
  "kernelspec": {
   "display_name": "base",
   "language": "python",
   "name": "python3"
  },
  "language_info": {
   "codemirror_mode": {
    "name": "ipython",
    "version": 3
   },
   "file_extension": ".py",
   "mimetype": "text/x-python",
   "name": "python",
   "nbconvert_exporter": "python",
   "pygments_lexer": "ipython3",
   "version": "3.12.2"
  }
 },
 "nbformat": 4,
 "nbformat_minor": 5
}
